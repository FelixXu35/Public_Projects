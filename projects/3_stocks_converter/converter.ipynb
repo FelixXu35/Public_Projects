{
 "cells": [
  {
   "attachments": {},
   "cell_type": "markdown",
   "metadata": {},
   "source": [
    "# Stocks Converter\n",
    "\n",
    "This project demonstrates the usage of TensorCircuit Stock Converter."
   ]
  },
  {
   "attachments": {},
   "cell_type": "markdown",
   "metadata": {},
   "source": [
    "## Define the converter"
   ]
  },
  {
   "cell_type": "code",
   "execution_count": 7,
   "metadata": {},
   "outputs": [],
   "source": [
    "import numpy as np"
   ]
  },
  {
   "cell_type": "code",
   "execution_count": 44,
   "metadata": {},
   "outputs": [],
   "source": [
    "class StockData:\n",
    "    \"\"\"convert real-world stock data to annualized covariance matrix and annualized return\n",
    "    input: a list of continuous stock data in the same time span\n",
    "    output: annualized convariance matrix and return\n",
    "    \"\"\"\n",
    "\n",
    "    def __init__(self, data):\n",
    "        self.data = data  # add data\n",
    "        self.n_stocks = len(data)  # num of stocks\n",
    "\n",
    "        # check the number of days\n",
    "        n_days = [len(i) for i in data]\n",
    "        if max(n_days) != (sum(n_days) / len(n_days)):\n",
    "            raise Exception(\"timespan of stocks should be the same\")\n",
    "        self.n_days = len(data[1])\n",
    "\n",
    "        # calculate the daily percentage price change\n",
    "        self.daily_change = []  # daily percentage price change\n",
    "        for i in range(self.n_stocks):\n",
    "            each_stcok = []\n",
    "            for j in range(self.n_days - 1):\n",
    "                each_stcok.append((data[i][j + 1] - data[i][j]) / data[i][j])\n",
    "            self.daily_change.append(each_stcok)\n",
    "\n",
    "    # calculate annualized return (mu)\n",
    "    def get_return(self):\n",
    "        change = [[i + 1 for i in j] for j in self.daily_change]  # daily_change + 1\n",
    "        ret = [np.prod(i) ** (252 / self.n_days) for i in change]\n",
    "        return ret\n",
    "\n",
    "    # calculate annualized covariance matrix (sigma)\n",
    "    def get_covariance(self):\n",
    "        mean_change = [\n",
    "            [i - np.mean(j) for i in j] for j in self.data\n",
    "        ]  # daily_change - mean(daily_change)\n",
    "        cov = 252 / self.n_days * np.dot(mean_change, np.transpose(mean_change))\n",
    "        return cov\n",
    "\n",
    "    def get_pentalty(self, cov, ret, risk_pre, budget):\n",
    "        # get all fesible and unfeasible states\n",
    "        self.f_state = []  # feasible states (num of '1's equal to budge)\n",
    "        self.uf_state = []  # unfeasible states\n",
    "        self.all_state = []\n",
    "        for i in range(2**self.n_stocks):\n",
    "            state = f\"{bin(i)[2:]:0>{self.n_stocks}}\"\n",
    "            n_ones = 0\n",
    "            for j in state:\n",
    "                if j == \"1\":\n",
    "                    n_ones += 1\n",
    "            self.all_state.append(state)\n",
    "            if n_ones == budget:\n",
    "                self.f_state.append(state)\n",
    "            else:\n",
    "                self.uf_state.append(state)\n",
    "\n",
    "        # determine the penalty factor\n",
    "        mark = False\n",
    "        penalty = 0  # initial value\n",
    "        while mark == False:\n",
    "            R = np.diag(ret)\n",
    "            S = np.ones((self.n_stocks, self.n_stocks)) - 2 * budget * np.diag(\n",
    "                np.ones(self.n_stocks)\n",
    "            )\n",
    "            Q = risk_pre * cov - R + penalty * S\n",
    "            F = []\n",
    "            for state in self.f_state:\n",
    "                x = np.array([int(bit) for bit in state])\n",
    "                F.append(np.dot(x, np.dot(Q, x)) + penalty*budget**2)\n",
    "            Fmin = np.amin(F)\n",
    "            Fbar = np.mean(F)\n",
    "            F = []\n",
    "            for state in self.uf_state:\n",
    "                x = np.array([int(bit) for bit in state])\n",
    "                F.append(np.dot(x, np.dot(Q, x)) + penalty*budget**2)\n",
    "            Fmin_uf = np.amin(F)\n",
    "            location = np.where(F == Fmin_uf)[0][0]\n",
    "            if Fmin_uf < 0.5 * (Fmin + Fbar):\n",
    "                n_ones = 0\n",
    "                for j in self.uf_state[location]:\n",
    "                    if j == \"1\":\n",
    "                        n_ones += 1\n",
    "                penalty += (0.5 * (Fmin + Fbar) - Fmin_uf) / (n_ones - budget) ** 2\n",
    "                #mark = True\n",
    "            else:\n",
    "                mark = True  # ready to return the penalty\n",
    "        return penalty"
   ]
  },
  {
   "attachments": {},
   "cell_type": "markdown",
   "metadata": {},
   "source": [
    "## Import data"
   ]
  },
  {
   "cell_type": "code",
   "execution_count": 45,
   "metadata": {},
   "outputs": [
    {
     "data": {
      "text/plain": [
       "80299.22578764349"
      ]
     },
     "execution_count": 45,
     "metadata": {},
     "output_type": "execute_result"
    }
   ],
   "source": [
    "import pandas as pd\n",
    "aapl = pd.read_csv('AAPL.csv')\n",
    "amzn = pd.read_csv('AMZN.csv')\n",
    "meta = pd.read_csv('META.csv')\n",
    "msft = pd.read_csv('MSFT.csv')\n",
    "qcom = pd.read_csv('QCOM.csv')\n",
    "sbux = pd.read_csv('SBUX.csv')\n",
    "names = [aapl, amzn, meta, msft, qcom, sbux]\n",
    "data = []\n",
    "for i in names:\n",
    "    i['Close/Last'].to_string\n",
    "    data.append([float(j[2::]) for j in i['Close/Last'].transpose()])\n",
    "data\n",
    "stock_data = StockData(data)\n",
    "ret = stock_data.get_return()\n",
    "cov = stock_data.get_covariance()\n",
    "stock_data.get_pentalty(cov, ret, 0.5, 3)"
   ]
  },
  {
   "attachments": {},
   "cell_type": "markdown",
   "metadata": {},
   "source": [
    "# Classical"
   ]
  },
  {
   "cell_type": "code",
   "execution_count": 24,
   "metadata": {},
   "outputs": [],
   "source": [
    "states = []\n",
    "for i in range(2**6):\n",
    "    a = f\"{bin(i)[2:]:0>{6}}\"\n",
    "    n_ones = 0\n",
    "    for j in a:\n",
    "        if j == '1':\n",
    "            n_ones += 1\n",
    "    if True:#n_ones != 3:\n",
    "        states.append(a)"
   ]
  },
  {
   "cell_type": "code",
   "execution_count": 25,
   "metadata": {},
   "outputs": [],
   "source": [
    "def QUBO_from_portfolio(cov, mean, q, B, t):\n",
    "    \"\"\"convert portfolio parameters to a Q-matrix\n",
    "    cov: n-by-n covariance numpy array\n",
    "    mean: numpy array of means\n",
    "    q: the risk preference of investor\n",
    "    B: budget\n",
    "    t: penalty factor\n",
    "    \"\"\"\n",
    "    n = cov.shape[0]\n",
    "    R = np.diag(mean)\n",
    "    S = np.ones((n, n)) - 2 * B * np.diag(np.ones(n))\n",
    "\n",
    "    Q = q * cov - R + t * S\n",
    "    return Q"
   ]
  },
  {
   "cell_type": "code",
   "execution_count": 26,
   "metadata": {},
   "outputs": [],
   "source": [
    "Q = QUBO_from_portfolio(cov, ret, 0.5, 3, 0)"
   ]
  },
  {
   "cell_type": "code",
   "execution_count": 27,
   "metadata": {},
   "outputs": [
    {
     "name": "stdout",
     "output_type": "stream",
     "text": [
      "\n",
      "-------------------------------------\n",
      "    selection\t  |\t  cost\n",
      "-------------------------------------\n",
      "    000000\t  |\t0.0000\n",
      "    000001\t  |\t984.3719\n",
      "    010000\t  |\t15241.6123\n",
      "    010001\t  |\t16607.1970\n",
      "    000010\t  |\t17903.0318\n",
      "    000011\t  |\t18095.8302\n",
      "    100000\t  |\t22076.2938\n",
      "    100001\t  |\t24795.6553\n",
      "    100010\t  |\t45222.4873\n",
      "    100011\t  |\t47150.2753\n",
      "    010010\t  |\t51014.8211\n",
      "    010011\t  |\t51588.8322\n",
      "    110000\t  |\t53745.7751\n",
      "    110001\t  |\t56846.3493\n",
      "    000100\t  |\t59615.4242\n",
      "    000101\t  |\t60211.1503\n",
      "    001000\t  |\t84039.2013\n",
      "    001001\t  |\t85778.3771\n",
      "    010100\t  |\t91550.9992\n",
      "    010101\t  |\t92527.9380\n",
      "    100100\t  |\t94282.7372\n",
      "    110010\t  |\t94762.1456\n",
      "    100101\t  |\t96613.4529\n",
      "    110011\t  |\t97071.1463\n",
      "    000111\t  |\t120749.2172\n",
      "    000110\t  |\t120945.0647\n",
      "    101000\t  |\t124041.3991\n",
      "    101001\t  |\t127515.5645\n",
      "    011000\t  |\t130577.7115\n",
      "    011001\t  |\t132698.1000\n",
      "    001010\t  |\t140972.2754\n",
      "    001011\t  |\t141919.8777\n",
      "    110100\t  |\t142646.1812\n",
      "    110101\t  |\t145358.1095\n",
      "    100110\t  |\t160855.5393\n",
      "    100111\t  |\t162394.6814\n",
      "    010110\t  |\t170750.8166\n",
      "    010111\t  |\t170936.1819\n",
      "    001100\t  |\t175121.2092\n",
      "    001101\t  |\t176471.7391\n",
      "    101010\t  |\t186217.6349\n",
      "    111000\t  |\t187007.7783\n",
      "    101011\t  |\t188900.2268\n",
      "    111001\t  |\t190863.1564\n",
      "    011010\t  |\t205380.9626\n",
      "    011011\t  |\t206709.7776\n",
      "    110110\t  |\t227089.1602\n",
      "    101100\t  |\t227714.4262\n",
      "    110111\t  |\t229009.5151\n",
      "    101101\t  |\t230799.9457\n",
      "    011100\t  |\t238353.6820\n",
      "    011101\t  |\t240085.4246\n",
      "    111010\t  |\t267054.1911\n",
      "    111011\t  |\t270117.9957\n",
      "    001110\t  |\t275480.8919\n",
      "    001111\t  |\t276039.8484\n",
      "    111100\t  |\t307374.7680\n",
      "    111101\t  |\t310841.5003\n",
      "    101110\t  |\t333317.2706\n",
      "    101111\t  |\t335611.2167\n",
      "    011110\t  |\t356583.5417\n",
      "    011111\t  |\t357523.7109\n",
      "    111110\t  |\t430847.7894\n",
      "    111111\t  |\t433522.9481\n",
      "-------------------------------------\n"
     ]
    }
   ],
   "source": [
    "# Brutely search over classical results for comparison before we run QAOA\n",
    "# the results are sorted with cost\n",
    "cost_dict = {}\n",
    "i = 0\n",
    "for selection in states:\n",
    "    x = np.array([int(bit) for bit in selection])\n",
    "    cost_dict[selection] = np.dot(x, np.dot(Q, x))\n",
    "    i += 1\n",
    "cost_sorted = dict(sorted(cost_dict.items(), key=lambda item: item[1]))\n",
    "print(\"\\n-------------------------------------\")\n",
    "print(\"    selection\\t  |\\t  cost\")\n",
    "print(\"-------------------------------------\")\n",
    "for k, v in cost_sorted.items():\n",
    "    print(\"%10s\\t  |\\t%.4f\" % (k, v))\n",
    "print(\"-------------------------------------\")"
   ]
  }
 ],
 "metadata": {
  "kernelspec": {
   "display_name": "QC",
   "language": "python",
   "name": "python3"
  },
  "language_info": {
   "codemirror_mode": {
    "name": "ipython",
    "version": 3
   },
   "file_extension": ".py",
   "mimetype": "text/x-python",
   "name": "python",
   "nbconvert_exporter": "python",
   "pygments_lexer": "ipython3",
   "version": "3.10.10"
  },
  "orig_nbformat": 4
 },
 "nbformat": 4,
 "nbformat_minor": 2
}

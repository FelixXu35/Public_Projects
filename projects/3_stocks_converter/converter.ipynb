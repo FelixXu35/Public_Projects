{
 "cells": [
  {
   "attachments": {},
   "cell_type": "markdown",
   "metadata": {},
   "source": [
    "# Stocks Converter\n",
    "\n",
    "This project demonstrates the usage of TensorCircuit Stock Converter."
   ]
  },
  {
   "attachments": {},
   "cell_type": "markdown",
   "metadata": {},
   "source": [
    "## Define the converter"
   ]
  },
  {
   "cell_type": "code",
   "execution_count": 1,
   "metadata": {},
   "outputs": [],
   "source": [
    "import numpy as np\n",
    "import matplotlib.pyplot as plt"
   ]
  },
  {
   "cell_type": "code",
   "execution_count": 2,
   "metadata": {},
   "outputs": [],
   "source": [
    "class StockData:\n",
    "    \"\"\"\n",
    "    A class for converting real-world stock data to an annualized covariance matrix and annualized return.\n",
    "\n",
    "    Attributes:\n",
    "    - data: A list of continuous stock data in the same time span.\n",
    "    - n_stocks: The number of stocks in the data.\n",
    "    - n_days: The number of trading days in the data.\n",
    "\n",
    "    Methods:\n",
    "    - __init__(self, data): Initializes the StockData object.\n",
    "    - get_return(self, decimals=5): Calculates the annualized return.\n",
    "    - get_covariance(self, decimals=5): Calculates the annualized covariance matrix.\n",
    "    - get_penalty(self, cov, ret, risk_pre, budget, decimals=5): Calculates the penalty factor.\n",
    "    \"\"\"\n",
    "\n",
    "    def __init__(self, data):\n",
    "        \"\"\"\n",
    "        Initializes the StockData object.\n",
    "\n",
    "        :param data: A list of continuous stock data in the same time span.\n",
    "        \"\"\"\n",
    "        self.data = data\n",
    "        self.n_stocks = len(data)\n",
    "\n",
    "        # Check the number of days\n",
    "        n_days = [len(i) for i in data]\n",
    "        if max(n_days) != (sum(n_days) / len(n_days)):\n",
    "            raise Exception(\"Timespan of stocks should be the same\")\n",
    "        self.n_days = len(data[1])\n",
    "\n",
    "        # Calculate the daily percentage price change\n",
    "        self.daily_change = []\n",
    "        for i in range(self.n_stocks):\n",
    "            each_stock = []\n",
    "            for j in range(self.n_days - 1):\n",
    "                each_stock.append((data[i][j + 1] - data[i][j]) / data[i][j + 1])\n",
    "            self.daily_change.append(each_stock)\n",
    "\n",
    "    def get_return(self, decimals=5):\n",
    "        \"\"\"\n",
    "        Calculates the annualized return (mu).\n",
    "\n",
    "        :param decimals: Number of decimal places to round the result to (default: 5).\n",
    "        :return: The annualized return as an array rounded to the specified number of decimals.\n",
    "        \"\"\"\n",
    "        change = [[j + 1 for j in i] for i in self.daily_change]\n",
    "        ret = np.prod(change, axis=1) ** (252 / self.n_days)\n",
    "        return ret.round(decimals)\n",
    "\n",
    "    def get_covariance(self, decimals=5):\n",
    "        \"\"\"\n",
    "        Calculates the annualized covariance matrix (sigma).\n",
    "\n",
    "        :param decimals: Number of decimal places to round the result to (default: 5).\n",
    "        :return: The annualized covariance matrix rounded to the specified number of decimals.\n",
    "        \"\"\"\n",
    "        mean = np.mean(self.daily_change, axis=1)\n",
    "        relative_change = [\n",
    "            [j - mean[i] for j in self.daily_change[i]] for i in range(6)\n",
    "        ]\n",
    "        cov = 252 / self.n_days * np.dot(relative_change, np.transpose(relative_change))\n",
    "        return cov.round(decimals)\n",
    "\n",
    "    def get_penalty(self, cov, ret, risk_pre, budget, decimals=5):\n",
    "        \"\"\"\n",
    "        Calculates the penalty factor.\n",
    "\n",
    "        :param cov: The annualized covariance matrix.\n",
    "        :param ret: The annualized return.\n",
    "        :param risk_pre: The risk preference factor.\n",
    "        :param budget: The budget (number of stocks to select).\n",
    "        :param decimals: Number of decimal places to round the result to (default: 5).\n",
    "        :return: The penalty factor rounded to the specified number of decimals.\n",
    "        \"\"\"\n",
    "        # Get all feasible and unfeasible states\n",
    "        self.f_state = []  # Feasible states (number of '1's equal to budget)\n",
    "        self.uf_state = []  # Unfeasible states\n",
    "        self.all_state = []\n",
    "        for i in range(2**self.n_stocks):\n",
    "            state = f\"{bin(i)[2:]:0>{self.n_stocks}}\"\n",
    "            n_ones = 0\n",
    "            for j in state:\n",
    "                if j == \"1\":\n",
    "                    n_ones += 1\n",
    "            self.all_state.append(state)\n",
    "            if n_ones == budget:\n",
    "                self.f_state.append(state)\n",
    "            else:\n",
    "                self.uf_state.append(state)\n",
    "\n",
    "        # Determine the penalty factor\n",
    "        mark = False\n",
    "        penalty = 0  # Initial value\n",
    "        while mark == False:\n",
    "            R = np.diag(ret)\n",
    "            S = np.ones((self.n_stocks, self.n_stocks)) - 2 * budget * np.diag(\n",
    "                np.ones(self.n_stocks)\n",
    "            )\n",
    "            Q = risk_pre * cov - R + penalty * S\n",
    "            F = []\n",
    "            for state in self.f_state:\n",
    "                x = np.array([int(bit) for bit in state])\n",
    "                F.append(np.dot(x, np.dot(Q, x)) + penalty * budget**2)\n",
    "            Fmin = np.amin(F)\n",
    "            Fbar = np.mean(F)\n",
    "            F = []\n",
    "            for state in self.uf_state:\n",
    "                x = np.array([int(bit) for bit in state])\n",
    "                F.append(np.dot(x, np.dot(Q, x)) + penalty * budget**2)\n",
    "            Fmin_uf = np.amin(F)\n",
    "            location = np.where(F == Fmin_uf)[0][0]\n",
    "            if Fmin_uf < 0.5 * (Fmin + Fbar):\n",
    "                n_ones = 0\n",
    "                for j in self.uf_state[location]:\n",
    "                    if j == \"1\":\n",
    "                        n_ones += 1\n",
    "                penalty += (0.5 * (Fmin + Fbar) - Fmin_uf) / (n_ones - budget) ** 2\n",
    "            else:\n",
    "                mark = True  # Ready to return the penalty\n",
    "        return round(penalty, decimals)"
   ]
  },
  {
   "attachments": {},
   "cell_type": "markdown",
   "metadata": {},
   "source": [
    "## Import data"
   ]
  },
  {
   "cell_type": "code",
   "execution_count": 3,
   "metadata": {},
   "outputs": [
    {
     "name": "stdout",
     "output_type": "stream",
     "text": [
      "[1.21141, 1.15325, 2.06457, 0.63539, 0.63827, 1.12224] \n",
      " [[0.08488, 0.06738, 0.09963, 0.02124, 0.05516, 0.04059], [0.06738, 0.10196, 0.11912, 0.02163, 0.0498, 0.04049], [0.09963, 0.11912, 0.31026, 0.01977, 0.10415, 0.06179], [0.02124, 0.02163, 0.01977, 0.05175, 0.01792, 0.02137], [0.05516, 0.0498, 0.10415, 0.01792, 0.19366, 0.0432], [0.04059, 0.04049, 0.06179, 0.02137, 0.0432, 0.05052]] \n",
      " 1.33314\n"
     ]
    },
    {
     "data": {
      "image/png": "[encoded data removed]",
      "text/plain": [
       "<Figure size 640x480 with 1 Axes>"
      ]
     },
     "metadata": {},
     "output_type": "display_data"
    }
   ],
   "source": [
    "import pandas as pd\n",
    "aapl = pd.read_csv('AAPL.csv')\n",
    "msft = pd.read_csv('MSFT.csv')\n",
    "nvda = pd.read_csv('NVDA.csv')\n",
    "pfe = pd.read_csv('PFE.csv')\n",
    "levi = pd.read_csv('LEVI.csv')\n",
    "csco = pd.read_csv('CSCO.csv')\n",
    "names = [aapl, msft, nvda, pfe, levi, csco]\n",
    "data = []\n",
    "for i in names:\n",
    "    i['Close'].to_string\n",
    "    data.append([j for j in i['Close'].transpose()])\n",
    "plt.plot(data[2])\n",
    "stock_data = StockData(data)\n",
    "ret = stock_data.get_return()\n",
    "cov = stock_data.get_covariance()\n",
    "penalty = stock_data.get_penalty(cov, ret, 0.5, 3)\n",
    "print(list(ret), '\\n', np.array(cov).tolist(), '\\n', penalty)"
   ]
  },
  {
   "cell_type": "code",
   "execution_count": 4,
   "metadata": {},
   "outputs": [
    {
     "data": {
      "text/plain": [
       "array([[1, 2],\n",
       "       [3, 4]])"
      ]
     },
     "execution_count": 4,
     "metadata": {},
     "output_type": "execute_result"
    }
   ],
   "source": [
    "a = np.array([[1, 2], [3, 4]])\n",
    "a"
   ]
  },
  {
   "cell_type": "code",
   "execution_count": 5,
   "metadata": {},
   "outputs": [
    {
     "data": {
      "text/plain": [
       "98288.87754532037"
      ]
     },
     "execution_count": 5,
     "metadata": {},
     "output_type": "execute_result"
    }
   ],
   "source": [
    "\n",
    "93905.89369161372**1.00398406374502"
   ]
  },
  {
   "attachments": {},
   "cell_type": "markdown",
   "metadata": {},
   "source": [
    "# Classical"
   ]
  },
  {
   "cell_type": "code",
   "execution_count": 6,
   "metadata": {},
   "outputs": [],
   "source": [
    "states = []\n",
    "for i in range(2**6):\n",
    "    a = f\"{bin(i)[2:]:0>{6}}\"\n",
    "    n_ones = 0\n",
    "    for j in a:\n",
    "        if j == '1':\n",
    "            n_ones += 1\n",
    "    if True:#n_ones != 3:\n",
    "        states.append(a)"
   ]
  },
  {
   "cell_type": "code",
   "execution_count": 7,
   "metadata": {},
   "outputs": [],
   "source": [
    "def QUBO_from_portfolio(cov, mean, q, B, t):\n",
    "    \"\"\"convert portfolio parameters to a Q-matrix\n",
    "    cov: n-by-n covariance numpy array\n",
    "    mean: numpy array of means\n",
    "    q: the risk preference of investor\n",
    "    B: budget\n",
    "    t: penalty factor\n",
    "    \"\"\"\n",
    "    n = cov.shape[0]\n",
    "    R = np.diag(mean)\n",
    "    S = np.ones((n, n)) - 2 * B * np.diag(np.ones(n))\n",
    "\n",
    "    Q = q * cov - R + t * S\n",
    "    return Q"
   ]
  },
  {
   "cell_type": "code",
   "execution_count": 8,
   "metadata": {},
   "outputs": [],
   "source": [
    "Q = QUBO_from_portfolio(cov, ret, 0.5, 4, penalty)"
   ]
  },
  {
   "cell_type": "code",
   "execution_count": 9,
   "metadata": {},
   "outputs": [
    {
     "name": "stdout",
     "output_type": "stream",
     "text": [
      "\n",
      "-------------------------------------\n",
      "    selection\t  |\t  cost\n",
      "-------------------------------------\n",
      "    111001\t  |\t-26.1789\n",
      "    101101\t  |\t-25.8508\n",
      "    111100\t  |\t-25.7717\n",
      "    011101\t  |\t-25.7643\n",
      "    101011\t  |\t-25.6425\n",
      "    011011\t  |\t-25.5618\n",
      "    111010\t  |\t-25.5571\n",
      "    111101\t  |\t-25.3713\n",
      "    101110\t  |\t-25.2417\n",
      "    001111\t  |\t-25.2194\n",
      "    011110\t  |\t-25.1605\n",
      "    111011\t  |\t-25.1349\n",
      "    110101\t  |\t-25.0953\n",
      "    110011\t  |\t-24.9433\n",
      "    101111\t  |\t-24.8386\n",
      "    011111\t  |\t-24.7575\n",
      "    111110\t  |\t-24.7529\n",
      "    100111\t  |\t-24.5477\n",
      "    110110\t  |\t-24.5193\n",
      "    010111\t  |\t-24.4860\n",
      "    110111\t  |\t-24.1375\n",
      "    101001\t  |\t-23.9705\n",
      "    111000\t  |\t-23.8916\n",
      "    011001\t  |\t-23.8844\n",
      "    101100\t  |\t-23.5444\n",
      "    001101\t  |\t-23.5101\n",
      "    011100\t  |\t-23.4578\n",
      "    101010\t  |\t-23.3580\n",
      "    001011\t  |\t-23.3358\n",
      "    011010\t  |\t-23.2772\n",
      "    110001\t  |\t-23.2169\n",
      "    001110\t  |\t-22.9157\n",
      "    100101\t  |\t-22.7894\n",
      "    110100\t  |\t-22.7676\n",
      "    010101\t  |\t-22.7224\n",
      "    100011\t  |\t-22.6655\n",
      "    110010\t  |\t-22.6374\n",
      "    010011\t  |\t-22.6043\n",
      "    100110\t  |\t-22.2227\n",
      "    000111\t  |\t-22.1625\n",
      "    010110\t  |\t-22.1610\n",
      "    111111\t  |\t-21.6431\n",
      "    101000\t  |\t-18.9765\n",
      "    001001\t  |\t-18.9423\n",
      "    011000\t  |\t-18.8903\n",
      "    001100\t  |\t-18.4969\n",
      "    001010\t  |\t-18.3444\n",
      "    100001\t  |\t-18.2230\n",
      "    110000\t  |\t-18.2015\n",
      "    010001\t  |\t-18.1564\n",
      "    100100\t  |\t-17.7549\n",
      "    010100\t  |\t-17.6878\n",
      "    000101\t  |\t-17.6828\n",
      "    100010\t  |\t-17.6529\n",
      "    000011\t  |\t-17.5929\n",
      "    010010\t  |\t-17.5916\n",
      "    000110\t  |\t-17.1307\n",
      "    001000\t  |\t-11.2414\n",
      "    100000\t  |\t-10.5009\n",
      "    010000\t  |\t-10.4343\n",
      "    000001\t  |\t-10.4290\n",
      "    000100\t  |\t-9.9415\n",
      "    000010\t  |\t-9.8734\n",
      "    000000\t  |\t0.0000\n",
      "-------------------------------------\n"
     ]
    }
   ],
   "source": [
    "# Brutely search over classical results for comparison before we run QAOA\n",
    "# the results are sorted with cost\n",
    "cost_dict = {}\n",
    "i = 0\n",
    "for selection in states:\n",
    "    x = np.array([int(bit) for bit in selection])\n",
    "    cost_dict[selection] = np.dot(x, np.dot(Q, x))\n",
    "    i += 1\n",
    "cost_sorted = dict(sorted(cost_dict.items(), key=lambda item: item[1]))\n",
    "print(\"\\n-------------------------------------\")\n",
    "print(\"    selection\\t  |\\t  cost\")\n",
    "print(\"-------------------------------------\")\n",
    "for k, v in cost_sorted.items():\n",
    "    print(\"%10s\\t  |\\t%.4f\" % (k, v))\n",
    "print(\"-------------------------------------\")"
   ]
  }
 ],
 "metadata": {
  "kernelspec": {
   "display_name": "QC",
   "language": "python",
   "name": "python3"
  },
  "language_info": {
   "codemirror_mode": {
    "name": "ipython",
    "version": 3
   },
   "file_extension": ".py",
   "mimetype": "text/x-python",
   "name": "python",
   "nbconvert_exporter": "python",
   "pygments_lexer": "ipython3",
   "version": "3.10.12"
  },
  "orig_nbformat": 4
 },
 "nbformat": 4,
 "nbformat_minor": 2
}

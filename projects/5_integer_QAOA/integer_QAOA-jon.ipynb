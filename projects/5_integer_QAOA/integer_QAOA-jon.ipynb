{
 "cells": [
  {
   "cell_type": "markdown",
   "metadata": {},
   "source": [
    "# Quantum Approximate Optimization Algorithm for Integer Variables\n",
    "\n",
    "## Introduction\n",
    "\n",
    "In prior tutorials, we have explored how the Quantum Approximate Optimization Algorithm (QAOA) excels in solving Quadratic Unconstrained Binary Optimization (QUBO) problems. As the terminology suggests, QUBO tasks require binary decision-making, typically represented as \"1\" or \"0\" for each qubit. Yet, many practical scenarios involve not only binary decisions but also the degrees to which these decisions can be implemented. This is where integer-variable problems come into play.\n",
    "\n",
    "## What are integer-variable problems?\n",
    "\n",
    "In an integer-variable problem, we are going to minimize a function according to a set of constraints $R=\\{R_i\\}$ as below:\n",
    "\n",
    "$$\n",
    "X^TQX, \\quad 0<X_i<R_i\n",
    "$$\n",
    "\n",
    "Here, $X=(X_1,\\ldots, X_d)$ is a length $d$ vector with each $X_i\\in\\mathbb{Z}$ an integer. $Q\\in\\mathbb{Z}^{d\\times d}$ is a symmetric matrix characterizing the optimization problem (called a Q matrix). The goal is to find the optimal values of $X$ that minimize the function while adhering to the specified constraints.\n",
    "\n",
    "## Quasi-binary Encoding Scheme\n",
    "\n",
    "\n",
    "While traditional QAOA yields a binary state output, an encoding strategy assigns integers to a binary state. The quasi-binary encoding method introduced by [Chen et al. (2023)](https://arxiv.org/abs/2304.06915) is used here.\n",
    "\n",
    "For the $i$-th integer variable $X_i$, $n_i$ qubits are needed for QAOA and the upper limits are represented as the sum of several $2^{l_{ij}}$:\n",
    "\n",
    "$$\n",
    "n_i = \\lfloor\\log(R_i+1)\\rfloor\\\\\n",
    "l_{ij} = \\text{bin}_j (R_i-2^{n_i}+1) + 1\n",
    "$$\n",
    "\n",
    "where $\\lfloor m \\rfloor$ denotes the floor of $m$, which rounds down to the nearest integer less than $m$. $\\text{bin}_j (R_i-2^{n_i}+1)$ gives the $j$-th bit of $\\text{bin} (R_i-2^{n_i}+1)$. Let's take an example and explain the expression above: consider the encoding of integer $8$. a single qubit representing $2^3$ would limit the binary state to values either 0 or 8. However, the quasi-binary encoding uses two qubits for $2^0$, one for $2^1$, and one for $2^2$, cumulatively reaching 8 ($2 \\times 2^0 + 1 \\times 2^1 + 1 \\times 2^2$). This approach allows the binary state to represent any integer within the 0 to 8 range. In this example, four binary numbers collectively form a group representing a single integer.\n",
    "\n",
    "Let's denote the encoded binary state using a lowercase letter $x$. The $i$-th integer variable $X_i$ is then represented as:\n",
    "\n",
    "$$\n",
    "X_i = \\sum_j^{n_i} x_{ij}2^{l_{ij}}\n",
    "$$\n",
    "\n",
    "where $x_{ij}$ is the $j$-th binary number in the $i$-th group. For $d$ integer values, the vector $x$ should have $d$ groups of binary numbers. We can simplify the encoding procedure by using a transformation matrix $M$ containing all $2^{ij}$ factors. If the total number of elements in $x$ is $k$, the transformation should have $d$ rows and $k$ columns and it looks like:\n",
    "$$\n",
    "\\begin{bmatrix}\n",
    "m_1& \\\\\n",
    "& m_2& \\\\\n",
    "& & \\ddots& \\\\\n",
    "& & & & m_j\\\\\n",
    "\\end{bmatrix}\n",
    "$$\n",
    "\n",
    "where $m_i$ is the non-zero parts corresponding to the $i$-th integer value and also $i$-th group of binary numbers. Each of them has elements as below:\n",
    "\n",
    "$$\n",
    "m_i = \\begin{bmatrix}\n",
    "2^{l_{i,1}}, & 2^{l_{i,2}},&\\cdots, & 2^{l_{i,n_{i}}}\n",
    "\\end{bmatrix}\n",
    "$$\n",
    "\n",
    "Let's also denote the transformed $Q$ matrix as $q$. The complete encoding scheme is described as:\n",
    "\n",
    "$$\n",
    "Mx = X \\\\\n",
    "q = M^TQM\n",
    "$$\n",
    "\n",
    "## Mathematical Explanation\n",
    "\n",
    "The objective is to maintain the original value of the target function even after applying the transformation. This condition is expressed mathematically as:\n",
    "\n",
    "$$\n",
    "x^Tqx = X^TQX\n",
    "$$\n",
    "\n",
    "To facilitate this, we introduce an auxiliary matrix that functions as an \"inverse\" to the transformation matrix $M$. The transformation matrix is not a square matrix and it technically does not have an inverse. However, we can always find a matrix $N$, which matches $M$ in dimensions (so $N$ has $k$ rows and $d$ columns), such that $MN = I$, where $I$ is a $d \\times d$ identity matrix corresponding in size to the Q matrix. This identity can be inserted into the equation while preserving the equality.\n",
    "\n",
    "$$\n",
    "x^Tqx = X^T(MN)^TQXMNX = (X^TN^T)(M^TQM)(NX)\n",
    "$$\n",
    "\n",
    "By comparing both sides of the equation, we derive:\n",
    "\n",
    "$$\n",
    "x = NX \\\\\n",
    "q = M^TQM\n",
    "$$\n",
    "\n",
    "Multiplying the first equation on the left by $M$ results in:\n",
    "\n",
    "$$\n",
    "Mx = X\n",
    "$$\n",
    "\n",
    "This step completes the derivation of the transformation relationship, effectively linking the original and transformed quantum states and Q matrices.\n",
    "\n",
    "## Soft constraint\n",
    "\n",
    "In standard QAOA, \"budget\"-like constraints limit the results. This concept is referred to as the soft constraint model. A similar constraint can also be applied in integer-variable QAOA. For instance, if we need the sum of all variables not to exceed a certain value $D$, we can modify the QUBO problem to minimize the following cost function:\n",
    "\n",
    "$$\n",
    "x^Tqx + \\lambda(n^Tx-D)^2\n",
    "$$\n",
    "\n",
    "Here, $n$ is a vector of binary encoding values, essentially a flattened version of the transformation matrix. It can be computed as $n$=`np.sum(M, axis=0)`. The quadratic penalty term, $\\lambda(n^Tx-D)^2$, is then expanded and reformulated as:\n",
    "\n",
    "$$\n",
    "\\lambda(n^Tx-D)^2 = \\lambda x^T(L - 2\\eta D)x + \\lambda D^2\n",
    "$$\n",
    "\n",
    "where $\\eta$ is a square matrix with the elements of $n$ along its diagonal (computed as  $\\eta=\\text{np.diag}(n)$), and $L$ is the outer product of two $n$ vectors ($L=n\\otimes n$).  To incorporate the soft constraint into the optimization, the Q-matrix needs a transformation as below:\n",
    "\n",
    "$$\n",
    "q \\to q + \\lambda(L - 2\\eta D)\n",
    "$$\n",
    "\n",
    "An illustrative example of this approach is presented in the final section of this tutorial, demonstrating the practical application of soft constraints in integer-variable QAOA.\n",
    "\n",
    "## Integer QAOA: An Example\n",
    "\n",
    "Consider the vector of integer variables $X=[X_1, X_2, X_3]$ with constraints $R=[6, 2, 7]$, and Q matrix:\n",
    "\n",
    "$$\n",
    "Q = \\left[\\begin{array}{rrr}\n",
    "    -5& -1& 2\\\\ -1& 6& 0\\\\ 2& 0& -2\\\\\n",
    "\\end{array}\\right]\n",
    "$$\n",
    "\n",
    "To proceed with the encoding strategy outlined previously, we transform the upper limits as follows:\n",
    "\n",
    "$$\n",
    "\\begin{aligned}\n",
    "6& \\to 2^0+2^0+2^1+2^1 \\\\\n",
    "2& \\to 2^0+2^0 \\\\\n",
    "7& \\to 2^0+2^1+2^2\n",
    "\\end{aligned}\n",
    "$$\n",
    "\n",
    "This transformation splits each integer variable into binary components based on their upper limits, allowing for a more flexible representation of the variables within the QAOA framework. The transformation matrix of this example should be:\n",
    "\n",
    "$$\n",
    "M = \\begin{bmatrix}\n",
    "\n",
    "\\end{bmatrix}\n",
    "$$\n",
    "\n",
    "## Set Up\n"
   ]
  },
  {
   "cell_type": "code",
   "execution_count": 1,
   "metadata": {},
   "outputs": [],
   "source": [
    "from itertools import product\n",
    "\n",
    "import numpy as np\n",
    "import tensorcircuit as tc\n",
    "import matplotlib.pyplot as plt\n",
    "\n",
    "from tensorcircuit.applications.optimization import QUBO_QAOA\n",
    "from tensorcircuit.templates.conversions import QUBO_to_Ising\n",
    "from tensorcircuit.templates.ansatz import QAOA_ansatz_for_Ising\n",
    "\n",
    "backend = tc.set_backend(\"tensorflow\")\n",
    "\n",
    "from supply import integer_QAOA_transformation, print_result_cost, print_Q_cost, print_result_prob"
   ]
  },
  {
   "cell_type": "code",
   "execution_count": 3,
   "metadata": {},
   "outputs": [],
   "source": [
    "Q = np.array([[-5, -1, 2], [-1, 6, 0], [2, 0, -2]])\n",
    "integers = [6, 2, 7]"
   ]
  },
  {
   "cell_type": "markdown",
   "metadata": {},
   "source": [
    "The brute-force method is used to find the integer state with the lowest cost."
   ]
  },
  {
   "cell_type": "code",
   "execution_count": 4,
   "metadata": {},
   "outputs": [
    {
     "name": "stdout",
     "output_type": "stream",
     "text": [
      "state: [6, 1, 0] \n",
      "cost: -186\n"
     ]
    }
   ],
   "source": [
    "all_states = []  # all feasible states\n",
    "costs = []  # the correspoding costs\n",
    "all_states = [\n",
    "    list(x)\n",
    "    for x in product(\n",
    "        range(integers[0] + 1), range(integers[1] + 1), range(integers[2] + 1)\n",
    "    )\n",
    "]\n",
    "for state in all_states:\n",
    "    costs.append(np.dot(state, np.dot(Q, state)))\n",
    "print(\"state:\", all_states[np.argmin(costs)], \"\\ncost:\", np.min(costs))"
   ]
  },
  {
   "cell_type": "markdown",
   "metadata": {},
   "source": [
    "# Build the transformed Q matrix\n",
    "\n",
    "As we mentioned before, a transformation matrix is needed in solving linear integer QAOA. The transformation matrix corresponding to our example, as well as the transformed Q matrix, are automatically given by calling the function `integer_QAOA_transformation`. The matrix is shown below."
   ]
  },
  {
   "cell_type": "code",
   "execution_count": 9,
   "metadata": {},
   "outputs": [
    {
     "data": {
      "text/plain": [
       "array([[1, 1, 2, 2, 0, 0, 0, 0, 0],\n",
       "       [0, 0, 0, 0, 1, 1, 0, 0, 0],\n",
       "       [0, 0, 0, 0, 0, 0, 1, 2, 4]])"
      ]
     },
     "execution_count": 9,
     "metadata": {},
     "output_type": "execute_result"
    }
   ],
   "source": [
    "q, matrix = integer_QAOA_transformation(Q, integers) # transformation matrix\n",
    "matrix"
   ]
  },
  {
   "cell_type": "markdown",
   "metadata": {},
   "source": [
    "The brute-force method is first used to find the correct answers. whose costs are the lowest.\n",
    "\n",
    "The lowest cost of the transformed Q matrix can be found by going through all possible binary states."
   ]
  },
  {
   "cell_type": "code",
   "execution_count": 5,
   "metadata": {},
   "outputs": [
    {
     "name": "stdout",
     "output_type": "stream",
     "text": [
      "\n",
      "-------------------------------------\n",
      "    selection\t  |\t  cost\n",
      "-------------------------------------\n",
      " 111101000\t  |\t-186.0000\n",
      " 111110000\t  |\t-186.0000\n",
      " 111100000\t  |\t-180.0000\n",
      " 111111000\t  |\t-180.0000\n",
      " 111101100\t  |\t-164.0000\n",
      " 111110100\t  |\t-164.0000\n",
      " 111100100\t  |\t-158.0000\n",
      " 111111100\t  |\t-158.0000\n",
      "-------------------------------------\n"
     ]
    }
   ],
   "source": [
    "print_Q_cost(q, wrap=True)"
   ]
  },
  {
   "cell_type": "markdown",
   "metadata": {},
   "source": [
    "# QAOA"
   ]
  },
  {
   "cell_type": "code",
   "execution_count": 6,
   "metadata": {},
   "outputs": [
    {
     "name": "stderr",
     "output_type": "stream",
     "text": [
      "WARNING:absl:At this time, the v2.11+ optimizer `tf.keras.optimizers.Adam` runs slowly on M1/M2 Macs, please use the legacy Keras optimizer instead, located at `tf.keras.optimizers.legacy.Adam`.\n"
     ]
    },
    {
     "data": {
      "text/plain": [
       "[<matplotlib.lines.Line2D at 0x309082d90>]"
      ]
     },
     "execution_count": 6,
     "metadata": {},
     "output_type": "execute_result"
    },
    {
     "data": {
      "image/png": "[encoded data removed]",
      "text/plain": [
       "<Figure size 640x480 with 1 Axes>"
      ]
     },
     "metadata": {},
     "output_type": "display_data"
    }
   ],
   "source": [
    "n_layers = 10\n",
    "n_iter = 300\n",
    "loss_list = []\n",
    "def callback(loss, _):\n",
    "    loss_list.append(loss)\n",
    "params = QUBO_QAOA(q, n_layers, n_iter, callback=callback)\n",
    "plt.plot(loss_list)"
   ]
  },
  {
   "cell_type": "code",
   "execution_count": 7,
   "metadata": {},
   "outputs": [
    {
     "name": "stdout",
     "output_type": "stream",
     "text": [
      "\n",
      "-------------------------------------\n",
      "    selection\t  |\tprobability\n",
      "-------------------------------------\n",
      " 111101010\t  |\t  0.0441\n",
      " 111110010\t  |\t  0.0441\n",
      " 111110111\t  |\t  0.0389\n",
      " 111101111\t  |\t  0.0389\n",
      "               ... ...\n",
      " 011011001\t  |\t  0.0000\n",
      " 101111101\t  |\t  0.0000\n",
      " 100011100\t  |\t  0.0000\n",
      "-------------------------------------\n"
     ]
    }
   ],
   "source": [
    "pauli_terms, weights, _ = QUBO_to_Ising(q)\n",
    "c_final = QAOA_ansatz_for_Ising(\n",
    "    params, n_layers, pauli_terms, weights\n",
    ")\n",
    "print_result_prob(c_final, wrap=True)"
   ]
  },
  {
   "cell_type": "code",
   "execution_count": 8,
   "metadata": {},
   "outputs": [
    {
     "name": "stdout",
     "output_type": "stream",
     "text": [
      "the decimal state with highest probability is [[6], [1], [0]]\n"
     ]
    }
   ],
   "source": [
    "dec = []\n",
    "for i in '111110000':\n",
    "    dec.append(int(i))\n",
    "integer_variable = np.dot(matrix, np.transpose([dec])).tolist()\n",
    "print(f\"the integer variables with highest probability is {integer_variable}\")"
   ]
  },
  {
   "cell_type": "markdown",
   "metadata": {},
   "source": [
    "# With constraint\n",
    "\n",
    "Incorporating a \"budget\" constraint into integer-variable QAOA allows for controlling the sum of the integer state, in this case, setting it to 6. To apply this constraint, we utilize specific matrices as follows:\n",
    "\n",
    "The transformation matrix $M$, the vector $n$ representing the flattened version of $M$, the matrix $L$ as the outer product of two $n$ vectors, and $\\eta$, a matrix with the elements of $n$ on its diagonal, are defined as:\n",
    "\n",
    "$$\n",
    "M = \\begin{bmatrix}\n",
    "       1& 1& 2& 2& 0& 0& 0& 0& 0\\\\\n",
    "       0& 0& 0& 0& 1& 1& 0& 0& 0\\\\\n",
    "       0& 0& 0& 0& 0& 0& 1& 2& 4\n",
    "\\end{bmatrix}\\\\\n",
    "\\ \\\\\n",
    "n = \\begin{pmatrix}\n",
    "       1& 1& 2& 2& 1& 1& 1& 2& 4\n",
    "\\end{pmatrix}^T\\\\\n",
    "\\ \\\\\n",
    "L = \\begin{bmatrix}\n",
    "        1&  1&  2&  2&  1&  1&  1&  2&  4\\\\\n",
    "        1&  1&  2&  2&  1&  1&  1&  2&  4\\\\\n",
    "        2&  2&  4&  4&  2&  2&  2&  4&  8\\\\\n",
    "        2&  2&  4&  4&  2&  2&  2&  4&  8\\\\\n",
    "        1&  1&  2&  2&  1&  1&  1&  2&  4\\\\\n",
    "        1&  1&  2&  2&  1&  1&  1&  2&  4\\\\\n",
    "        1&  1&  2&  2&  1&  1&  1&  2&  4\\\\\n",
    "        2&  2&  4&  4&  2&  2&  2&  4&  8\\\\\n",
    "        4&  4&  8&  8&  4&  4&  4&  8& 16\n",
    "\\end{bmatrix}\\\\\n",
    "\\ \\\\\n",
    "\\eta = \\begin{bmatrix}\n",
    "       1& 0& 0& 0& 0& 0& 0& 0& 0\\\\\n",
    "       0& 1& 0& 0& 0& 0& 0& 0& 0\\\\\n",
    "       0& 0& 2& 0& 0& 0& 0& 0& 0\\\\\n",
    "       0& 0& 0& 2& 0& 0& 0& 0& 0\\\\\n",
    "       0& 0& 0& 0& 1& 0& 0& 0& 0\\\\\n",
    "       0& 0& 0& 0& 0& 1& 0& 0& 0\\\\\n",
    "       0& 0& 0& 0& 0& 0& 1& 0& 0\\\\\n",
    "       0& 0& 0& 0& 0& 0& 0& 2& 0\\\\\n",
    "       0& 0& 0& 0& 0& 0& 0& 0& 4\\\\\n",
    "\\end{bmatrix}\n",
    "$$\n",
    "\n",
    "The function integer_QAOA_transformation can automatically implement the budget constraint. By passing the budget argument, the matrices above are internally generated, streamlining the process. The syntax for this function and an alternative brute-force method to identify the optimal solution under the budget constraint are provided in the following part."
   ]
  },
  {
   "cell_type": "code",
   "execution_count": 9,
   "metadata": {},
   "outputs": [
    {
     "name": "stdout",
     "output_type": "stream",
     "text": [
      "\n",
      "-------------------------------------\n",
      "    selection\t  |\t  cost\n",
      "-------------------------------------\n",
      " 111100000\t  |\t-540.0000\n",
      " 111101000\t  |\t-536.0000\n",
      " 111110000\t  |\t-536.0000\n",
      " 111100100\t  |\t-508.0000\n",
      " 111111000\t  |\t-500.0000\n",
      " 011101000\t  |\t-489.0000\n",
      " 011110000\t  |\t-489.0000\n",
      " 101101000\t  |\t-489.0000\n",
      "-------------------------------------\n"
     ]
    }
   ],
   "source": [
    "q, matrix = integer_QAOA_transformation(Q, integers, budget=6, penalty=10) # transformation matrix\n",
    "print_Q_cost(q, wrap=True) # print the costs of all binary states"
   ]
  },
  {
   "cell_type": "code",
   "execution_count": 10,
   "metadata": {},
   "outputs": [
    {
     "name": "stderr",
     "output_type": "stream",
     "text": [
      "WARNING:absl:At this time, the v2.11+ optimizer `tf.keras.optimizers.Adam` runs slowly on M1/M2 Macs, please use the legacy Keras optimizer instead, located at `tf.keras.optimizers.legacy.Adam`.\n"
     ]
    },
    {
     "data": {
      "text/plain": [
       "[<matplotlib.lines.Line2D at 0x314bbdf50>]"
      ]
     },
     "execution_count": 10,
     "metadata": {},
     "output_type": "execute_result"
    },
    {
     "data": {
      "image/png": "[encoded data removed]",
      "text/plain": [
       "<Figure size 640x480 with 1 Axes>"
      ]
     },
     "metadata": {},
     "output_type": "display_data"
    }
   ],
   "source": [
    "n_layers = 12\n",
    "n_iter = 500\n",
    "loss_list = []\n",
    "params = QUBO_QAOA(q, n_layers, n_iter, callback=callback)\n",
    "plt.plot(loss_list)"
   ]
  },
  {
   "cell_type": "code",
   "execution_count": 11,
   "metadata": {},
   "outputs": [
    {
     "name": "stdout",
     "output_type": "stream",
     "text": [
      "\n",
      "-------------------------------------\n",
      "    selection\t  |\tprobability\n",
      "-------------------------------------\n",
      " 111100000\t  |\t  0.0358\n",
      " 111100100\t  |\t  0.0229\n",
      " 111101000\t  |\t  0.0167\n",
      " 111110000\t  |\t  0.0167\n",
      "               ... ...\n",
      " 110111111\t  |\t  0.0000\n",
      " 100001000\t  |\t  0.0000\n",
      " 010010000\t  |\t  0.0000\n",
      "-------------------------------------\n"
     ]
    }
   ],
   "source": [
    "pauli_terms, weights, _ = QUBO_to_Ising(q)\n",
    "c_final = QAOA_ansatz_for_Ising(\n",
    "    params, n_layers, pauli_terms, weights\n",
    ")\n",
    "print_result_prob(c_final, wrap=True)"
   ]
  },
  {
   "cell_type": "code",
   "execution_count": 12,
   "metadata": {},
   "outputs": [
    {
     "name": "stdout",
     "output_type": "stream",
     "text": [
      "the decimal state with highest probability is [[6], [0], [0]]\n"
     ]
    }
   ],
   "source": [
    "dec = []\n",
    "for i in '111100000':\n",
    "    dec.append(int(i))\n",
    "integer_variable = np.dot(matrix, np.transpose([dec])).tolist()\n",
    "print(f\"the integer variables with highest probability are {integer_variable}\")"
   ]
  }
 ],
 "metadata": {
  "kernelspec": {
   "display_name": "Python 3 (ipykernel)",
   "language": "python",
   "name": "python3"
  },
  "language_info": {
   "codemirror_mode": {
    "name": "ipython",
    "version": 3
   },
   "file_extension": ".py",
   "mimetype": "text/x-python",
   "name": "python",
   "nbconvert_exporter": "python",
   "pygments_lexer": "ipython3",
   "version": "3.11.4"
  }
 },
 "nbformat": 4,
 "nbformat_minor": 4
}

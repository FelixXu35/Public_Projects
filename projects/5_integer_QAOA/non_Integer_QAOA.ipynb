{
 "cells": [
  {
   "cell_type": "markdown",
   "metadata": {},
   "source": [
    "This notebook is a demonstration of the integer QAOA.\n",
    "\n",
    "Revelent paper:\n",
    "\n",
    "* Integer Programming from Quantum Annealing and Open Quantum Systems\n",
    "\n",
    "* Quantum Portfolio Optimization: Binary encoding of discrete variables for QAOA with hard constraint"
   ]
  },
  {
   "cell_type": "code",
   "execution_count": 13,
   "metadata": {},
   "outputs": [],
   "source": [
    "import tensorcircuit as tc\n",
    "import numpy as np\n",
    "import tensorflow as tf\n",
    "import matplotlib.pyplot as plt\n",
    "from IPython.display import clear_output\n",
    "from functools import partial\n",
    "import time\n",
    "import scipy.optimize as optimize\n",
    "\n",
    "from tensorcircuit.templates.ansatz import QAOA_ansatz_for_Ising\n",
    "from tensorcircuit.templates.conversions import QUBO_to_Ising\n",
    "from tensorcircuit.applications.optimization import QUBO_QAOA, QAOA_loss\n",
    "from tensorcircuit.applications.finance.portfolio import StockData, QUBO_from_portfolio\n",
    "\n",
    "K = tc.set_backend(\"tensorflow\")"
   ]
  },
  {
   "cell_type": "markdown",
   "metadata": {},
   "source": [
    "# Brute-force"
   ]
  },
  {
   "cell_type": "code",
   "execution_count": 14,
   "metadata": {},
   "outputs": [
    {
     "data": {
      "text/plain": [
       "array([[ 0.36387044,  0.98398998,  0.77664382, -0.57022145, -0.8271865 ,\n",
       "        -0.17470179],\n",
       "       [ 0.98398998, -0.74150159, -0.83136848,  0.96863776,  0.59585787,\n",
       "         0.10660856],\n",
       "       [ 0.77664382, -0.83136848, -0.07874158, -0.34773698, -0.1300613 ,\n",
       "        -0.43438872],\n",
       "       [-0.57022145,  0.96863776, -0.34773698,  0.66109934, -0.02911056,\n",
       "        -0.4202277 ],\n",
       "       [-0.8271865 ,  0.59585787, -0.1300613 , -0.02911056,  0.23173986,\n",
       "         0.02608603],\n",
       "       [-0.17470179,  0.10660856, -0.43438872, -0.4202277 ,  0.02608603,\n",
       "         0.42564159]])"
      ]
     },
     "execution_count": 14,
     "metadata": {},
     "output_type": "execute_result"
    }
   ],
   "source": [
    "def symmetric_matrix_generator(dim: int) -> np.array:\n",
    "    \"\"\"\n",
    "    Generate a random symmetric matrix with a give dimension.\n",
    "    args:\n",
    "        dim: the number of dimension\n",
    "    return:\n",
    "        mat: a symmetric matrix\n",
    "    \"\"\"\n",
    "    mat = np.random.rand(dim**2)\n",
    "    mat = (mat - 0.5) * 2\n",
    "    mat = mat.reshape(dim, dim)\n",
    "    mat = np.triu(mat)\n",
    "    mat += mat.T - np.diag(mat.diagonal())\n",
    "\n",
    "    return mat\n",
    "\n",
    "Q = symmetric_matrix_generator(6)\n",
    "Q"
   ]
  },
  {
   "cell_type": "code",
   "execution_count": 15,
   "metadata": {},
   "outputs": [
    {
     "data": {
      "text/plain": [
       "'Q = np.array(\\n    [\\n        [0.88948032, -0.07234145, -0.18161475, -0.53710716, 0.33096931, -0.26108493],\\n        [-0.07234145, -0.09541496, 0.68429927, 0.5039359, 0.47133678, 0.65393151],\\n        [-0.18161475, 0.68429927, -0.26816208, -0.15116385, -0.31595842, 0.44916078],\\n        [-0.53710716, 0.5039359, -0.15116385, -0.58175722, -0.34328656, -0.31502359],\\n        [0.33096931, 0.47133678, -0.31595842, -0.34328656, -0.12711979, 0.52694774],\\n        [-0.26108493, 0.65393151, 0.44916078, -0.31502359, 0.52694774, -0.63838229],\\n    ]\\n)'"
      ]
     },
     "execution_count": 15,
     "metadata": {},
     "output_type": "execute_result"
    }
   ],
   "source": [
    "\"\"\"Q = np.array(\n",
    "    [\n",
    "        [0.88948032, -0.07234145, -0.18161475, -0.53710716, 0.33096931, -0.26108493],\n",
    "        [-0.07234145, -0.09541496, 0.68429927, 0.5039359, 0.47133678, 0.65393151],\n",
    "        [-0.18161475, 0.68429927, -0.26816208, -0.15116385, -0.31595842, 0.44916078],\n",
    "        [-0.53710716, 0.5039359, -0.15116385, -0.58175722, -0.34328656, -0.31502359],\n",
    "        [0.33096931, 0.47133678, -0.31595842, -0.34328656, -0.12711979, 0.52694774],\n",
    "        [-0.26108493, 0.65393151, 0.44916078, -0.31502359, 0.52694774, -0.63838229],\n",
    "    ]\n",
    ")\"\"\"\n",
    "\n",
    "# [0.4, 0.0, 1.0, 1.0, 1.0, 0.0]"
   ]
  },
  {
   "cell_type": "code",
   "execution_count": 16,
   "metadata": {},
   "outputs": [],
   "source": [
    "n = 10\n",
    "\n",
    "feasible_states = []\n",
    "for x1 in range(n+1):\n",
    "    for x2 in range(n+1):\n",
    "        for x3 in range(n+1):\n",
    "            for x4 in range(n+1):\n",
    "                for x5 in range(n+1):\n",
    "                    for x6 in range(n+1):\n",
    "                        if True:#(x1 + x2 + x3 + x4 + x5 + x6) <= 4 * n:\n",
    "                            feasible_states.append(\n",
    "                                [x1 / n, x2 / n, x3 / n, x4 / n, x5 / n, x6 / n]\n",
    "                            )"
   ]
  },
  {
   "cell_type": "code",
   "execution_count": 17,
   "metadata": {},
   "outputs": [],
   "source": [
    "all_results = []\n",
    "for state in feasible_states:\n",
    "    all_results.append(np.dot(state, np.dot(Q, state)))"
   ]
  },
  {
   "cell_type": "code",
   "execution_count": 18,
   "metadata": {},
   "outputs": [
    {
     "name": "stdout",
     "output_type": "stream",
     "text": [
      "-2.7350177444680166 [0.0, 1.0, 1.0, 0.0, 0.0, 0.8]\n"
     ]
    }
   ],
   "source": [
    "print(np.min(all_results), feasible_states[np.argmin(all_results)])"
   ]
  },
  {
   "cell_type": "markdown",
   "metadata": {},
   "source": [
    "# QAOA"
   ]
  },
  {
   "cell_type": "code",
   "execution_count": 19,
   "metadata": {},
   "outputs": [],
   "source": [
    "def print_Q_cost(Q, wrap=False, reverse=False):\n",
    "    n_stocks = len(Q)\n",
    "    states = []\n",
    "    for i in range(2**n_stocks):\n",
    "        a = f\"{bin(i)[2:]:0>{n_stocks}}\"\n",
    "        n_ones = 0\n",
    "        for j in a:\n",
    "            if j == \"1\":\n",
    "                n_ones += 1\n",
    "        states.append(a)\n",
    "\n",
    "    cost_dict = {}\n",
    "    for selection in states:\n",
    "        x = np.array([int(bit) for bit in selection])\n",
    "        cost_dict[selection] = np.dot(x, np.dot(Q, x))\n",
    "    cost_sorted = dict(sorted(cost_dict.items(), key=lambda item: item[1]))\n",
    "    if reverse == True:\n",
    "        cost_sorted = dict(\n",
    "            sorted(cost_dict.items(), key=lambda item: item[1], reverse=True)\n",
    "        )\n",
    "    num = 0\n",
    "    print(\"\\n-------------------------------------\")\n",
    "    print(\"    selection\\t  |\\t  cost\")\n",
    "    print(\"-------------------------------------\")\n",
    "    for k, v in cost_sorted.items():\n",
    "        print(\"%10s\\t  |\\t%.4f\" % (k, v))\n",
    "        num += 1\n",
    "        if (num >= 8) & (wrap == True):\n",
    "            break\n",
    "    print(\"     ...\\t  |\\t  ...\")\n",
    "    print(\"-------------------------------------\")"
   ]
  },
  {
   "cell_type": "code",
   "execution_count": 20,
   "metadata": {},
   "outputs": [
    {
     "name": "stdout",
     "output_type": "stream",
     "text": [
      "\n",
      "-------------------------------------\n",
      "    selection\t  |\t  cost\n",
      "-------------------------------------\n",
      "    011001\t  |\t-2.7129\n",
      "    101111\t  |\t-2.6582\n",
      "    011000\t  |\t-2.4830\n",
      "    100111\t  |\t-2.3084\n",
      "    011101\t  |\t-1.6505\n",
      "    100110\t  |\t-1.5963\n",
      "    011011\t  |\t-1.4974\n",
      "    001111\t  |\t-1.4311\n",
      "     ...\t  |\t  ...\n",
      "-------------------------------------\n"
     ]
    }
   ],
   "source": [
    "print_Q_cost(Q, wrap=True)"
   ]
  },
  {
   "cell_type": "code",
   "execution_count": 21,
   "metadata": {},
   "outputs": [
    {
     "name": "stderr",
     "output_type": "stream",
     "text": [
      "WARNING:absl:At this time, the v2.11+ optimizer `tf.keras.optimizers.Adam` runs slowly on M1/M2 Macs, please use the legacy Keras optimizer instead, located at `tf.keras.optimizers.legacy.Adam`.\n"
     ]
    },
    {
     "data": {
      "image/png": "[encoded data removed]",
      "text/plain": [
       "<Figure size 640x480 with 1 Axes>"
      ]
     },
     "metadata": {},
     "output_type": "display_data"
    }
   ],
   "source": [
    "iterations = 500\n",
    "nlayers = 12\n",
    "loss_list = []\n",
    "\n",
    "# define a callback function to recode the loss\n",
    "def record_loss(loss, params):\n",
    "    loss_list.append(loss)\n",
    "\n",
    "# apply QAOA on this portfolio optimization problem\n",
    "final_params = QUBO_QAOA(Q, nlayers, iterations, callback=record_loss)\n",
    "\n",
    "p = plt.plot(loss_list)"
   ]
  },
  {
   "cell_type": "code",
   "execution_count": 22,
   "metadata": {},
   "outputs": [
    {
     "name": "stdout",
     "output_type": "stream",
     "text": [
      "the expectation value of each qubit:\n",
      "0.4412977993488312\n",
      "0.6102265268564224\n",
      "0.02586662769317627\n",
      "0.4016197919845581\n",
      "0.41468545794487\n",
      "0.033747971057891846\n",
      "\n",
      "the states with highest probabilities (in reverse order):\n",
      "101110\n",
      "100111\n",
      "101111\n"
     ]
    },
    {
     "data": {
      "image/png": "[encoded data removed]",
      "text/plain": [
       "<Figure size 640x480 with 1 Axes>"
      ]
     },
     "metadata": {},
     "output_type": "display_data"
    }
   ],
   "source": [
    "portfolio_pauli_terms, portfolio_weights, portfolio_offset = QUBO_to_Ising(Q)\n",
    "c_final = QAOA_ansatz_for_Ising(\n",
    "    final_params, nlayers, portfolio_pauli_terms, portfolio_weights\n",
    ")\n",
    "\n",
    "plt.plot(abs(c_final.state().numpy()))\n",
    "print(\"the expectation value of each qubit:\")\n",
    "for i in range(6):\n",
    "    print(abs(c_final.expectation((tc.gates.z(), [i])).numpy()+1)/2)\n",
    "print(\"\\nthe states with highest probabilities (in reverse order):\")\n",
    "for i in range(-3, 0):\n",
    "    print(np.binary_repr(np.argsort(c_final.state().numpy())[i], width=6))"
   ]
  }
 ],
 "metadata": {
  "kernelspec": {
   "display_name": "Qc",
   "language": "python",
   "name": "python3"
  },
  "language_info": {
   "codemirror_mode": {
    "name": "ipython",
    "version": 3
   },
   "file_extension": ".py",
   "mimetype": "text/x-python",
   "name": "python",
   "nbconvert_exporter": "python",
   "pygments_lexer": "ipython3",
   "version": "3.11.4"
  },
  "orig_nbformat": 4
 },
 "nbformat": 4,
 "nbformat_minor": 2
}

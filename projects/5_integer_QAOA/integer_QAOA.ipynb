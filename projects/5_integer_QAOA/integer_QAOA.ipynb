{
 "cells": [
  {
   "cell_type": "code",
   "execution_count": 1,
   "metadata": {},
   "outputs": [],
   "source": [
    "from supply import integer_QAOA_transformation"
   ]
  },
  {
   "cell_type": "code",
   "execution_count": 2,
   "metadata": {},
   "outputs": [
    {
     "name": "stdout",
     "output_type": "stream",
     "text": [
      "4 [1, 1, 1, 1] 0000 [[1 2 4 8]\n",
      " [0 0 0 0]\n",
      " [0 0 0 0]\n",
      " [0 0 0 0]]\n",
      "4 [1, 1, 2, 1] 0010 [[0 0 0 0 0]\n",
      " [1 2 4 4 8]\n",
      " [0 0 0 0 0]\n",
      " [0 0 0 0 0]]\n",
      "2 [2, 2] 11 [[0 0 0 0]\n",
      " [0 0 0 0]\n",
      " [1 1 2 2]\n",
      " [0 0 0 0]]\n",
      "3 [1, 2, 1] 010 [[0 0 0 0]\n",
      " [0 0 0 0]\n",
      " [0 0 0 0]\n",
      " [1 2 2 4]]\n"
     ]
    },
    {
     "data": {
      "text/plain": [
       "array([[1, 2, 4, 8, 0, 0, 0, 0, 0, 0, 0, 0, 0, 0, 0, 0, 0],\n",
       "       [0, 0, 0, 0, 1, 2, 4, 4, 8, 0, 0, 0, 0, 0, 0, 0, 0],\n",
       "       [0, 0, 0, 0, 0, 0, 0, 0, 0, 1, 1, 2, 2, 0, 0, 0, 0],\n",
       "       [0, 0, 0, 0, 0, 0, 0, 0, 0, 0, 0, 0, 0, 1, 2, 2, 4]])"
      ]
     },
     "execution_count": 2,
     "metadata": {},
     "output_type": "execute_result"
    }
   ],
   "source": [
    "integer_QAOA_transformation(([15, 17, 6, 9]))"
   ]
  }
 ],
 "metadata": {
  "kernelspec": {
   "display_name": "Qc",
   "language": "python",
   "name": "python3"
  },
  "language_info": {
   "codemirror_mode": {
    "name": "ipython",
    "version": 3
   },
   "file_extension": ".py",
   "mimetype": "text/x-python",
   "name": "python",
   "nbconvert_exporter": "python",
   "pygments_lexer": "ipython3",
   "version": "3.11.4"
  },
  "orig_nbformat": 4
 },
 "nbformat": 4,
 "nbformat_minor": 2
}
